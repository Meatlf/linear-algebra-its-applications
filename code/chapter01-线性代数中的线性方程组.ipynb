{
 "cells": [
  {
   "cell_type": "code",
   "execution_count": 1,
   "metadata": {},
   "outputs": [],
   "source": [
    "import sympy\n",
    "import numpy as np"
   ]
  },
  {
   "cell_type": "markdown",
   "metadata": {},
   "source": [
    "## 简化行阶梯矩阵"
   ]
  },
  {
   "cell_type": "code",
   "execution_count": 2,
   "metadata": {},
   "outputs": [
    {
     "data": {
      "text/plain": [
       "(Matrix([\n",
       " [1, 0,   1,   3],\n",
       " [0, 1, 2/3, 1/3],\n",
       " [0, 0,   0,   0]]), (0, 1))"
      ]
     },
     "execution_count": 2,
     "metadata": {},
     "output_type": "execute_result"
    }
   ],
   "source": [
    "M = sympy.Matrix([[1, 0, 1, 3], [2, 3, 4, 7], [-1, -3, -3, -4]]) \n",
    "sympy.Matrix(M).rref()"
   ]
  },
  {
   "cell_type": "markdown",
   "metadata": {},
   "source": [
    "## 求方程组的解"
   ]
  },
  {
   "cell_type": "code",
   "execution_count": 3,
   "metadata": {},
   "outputs": [
    {
     "name": "stdout",
     "output_type": "stream",
     "text": [
      "{x2: 3 - x3, x1: 2*x3 + 9}\n"
     ]
    }
   ],
   "source": [
    "# 1)无数解\n",
    "x1 = sympy.Symbol('x1')\n",
    "x2 = sympy.Symbol('x2')\n",
    "x3 = sympy.Symbol('x3')\n",
    "print(sympy.solve([x1 - 3*x2 - 5*x3, \n",
    "                          x2 +   x3 - 3],\n",
    "                  \n",
    "                  [x1, x2, x3]))"
   ]
  },
  {
   "cell_type": "code",
   "execution_count": 4,
   "metadata": {},
   "outputs": [
    {
     "name": "stdout",
     "output_type": "stream",
     "text": [
      "{x1: 2, x2: 3, x3: 4}\n"
     ]
    }
   ],
   "source": [
    "# 2)唯一解\n",
    "x1 = sympy.Symbol('x1')\n",
    "x2 = sympy.Symbol('x2')\n",
    "x3 = sympy.Symbol('x3')\n",
    "print(sympy.solve([   x1 + 2*x2 -  x3 - 4, \n",
    "                    2*x1 +   x2 +  x3 - 11,\n",
    "                   -3*x1 - 2*x2 +  x3 + 8],\n",
    "                  \n",
    "                  [x1, x2, x3]))"
   ]
  },
  {
   "cell_type": "code",
   "execution_count": 5,
   "metadata": {},
   "outputs": [
    {
     "name": "stdout",
     "output_type": "stream",
     "text": [
      "[]\n"
     ]
    }
   ],
   "source": [
    "# 3)无解\n",
    "x1 = sympy.Symbol('x1')\n",
    "x2 = sympy.Symbol('x2')\n",
    "x3 = sympy.Symbol('x3')\n",
    "print(sympy.solve([ 0 * x1 - 2*x2 + 0 * x3 -4, \n",
    "                    0 * x1 + 1*x2 + 0 * x3 +3,\n",
    "                    2 * x1 - 1*x2 + 0 * x3 +5],\n",
    "                  \n",
    "                  [x1, x2, x3]))"
   ]
  },
  {
   "cell_type": "code",
   "execution_count": null,
   "metadata": {},
   "outputs": [],
   "source": []
  }
 ],
 "metadata": {
  "kernelspec": {
   "display_name": "Python 3.7.4 64-bit ('base': conda)",
   "language": "python",
   "name": "python37464bitbasecondacb3ec4d305c44fe887804b43a376a3a9"
  },
  "language_info": {
   "codemirror_mode": {
    "name": "ipython",
    "version": 3
   },
   "file_extension": ".py",
   "mimetype": "text/x-python",
   "name": "python",
   "nbconvert_exporter": "python",
   "pygments_lexer": "ipython3",
   "version": "3.7.4"
  }
 },
 "nbformat": 4,
 "nbformat_minor": 2
}
